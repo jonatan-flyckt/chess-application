{
 "cells": [
  {
   "cell_type": "code",
   "execution_count": 1,
   "metadata": {},
   "outputs": [
    {
     "name": "stderr",
     "output_type": "stream",
     "text": [
      "c:\\Users\\Jonatan\\anaconda3\\lib\\site-packages\\pandas\\core\\computation\\expressions.py:20: UserWarning: Pandas requires version '2.7.3' or newer of 'numexpr' (version '2.7.1' currently installed).\n",
      "  from pandas.core.computation.check import NUMEXPR_INSTALLED\n"
     ]
    }
   ],
   "source": [
    "import pandas as pd\n",
    "import numpy as np\n",
    "import matplotlib.pyplot as plt\n",
    "import cv2"
   ]
  },
  {
   "cell_type": "code",
   "execution_count": null,
   "metadata": {},
   "outputs": [],
   "source": []
  },
  {
   "cell_type": "code",
   "execution_count": 2,
   "metadata": {},
   "outputs": [],
   "source": [
    "load_path = '../../graphic_development_files/Placeholders/'\n",
    "save_path = '../../graphic_development_files/Placeholders/prod_staging/squares/white_perspective/'"
   ]
  },
  {
   "cell_type": "code",
   "execution_count": 3,
   "metadata": {},
   "outputs": [],
   "source": [
    "white_base = cv2.resize(cv2.imread(load_path + 'white_square.png', cv2.IMREAD_COLOR), (200, 200))\n",
    "white_legal_highlight = cv2.resize(cv2.imread(load_path + 'legal_move_highlight_white.png', cv2.IMREAD_COLOR), (200, 200))\n",
    "white_misc_highlight = cv2.resize(cv2.imread(load_path + 'misc_square_highlight_white.png', cv2.IMREAD_COLOR), (200, 200))\n",
    "white_check_highlight = cv2.resize(cv2.imread(load_path + 'check_highlight_white.png', cv2.IMREAD_COLOR), (200, 200))\n",
    "\n",
    "black_base = cv2.resize(cv2.imread(load_path + 'black_square.png', cv2.IMREAD_COLOR), (200, 200))\n",
    "black_legal_highlight = cv2.resize(cv2.imread(load_path + 'legal_move_highlight_black.png', cv2.IMREAD_COLOR), (200, 200))\n",
    "black_misc_highlight = cv2.resize(cv2.imread(load_path + 'misc_square_highlight_black.png', cv2.IMREAD_COLOR), (200, 200))\n",
    "black_check_highlight = cv2.resize(cv2.imread(load_path + 'check_highlight_black.png', cv2.IMREAD_COLOR), (200, 200))"
   ]
  },
  {
   "cell_type": "markdown",
   "metadata": {},
   "source": [
    "White perspective:"
   ]
  },
  {
   "cell_type": "code",
   "execution_count": 4,
   "metadata": {},
   "outputs": [],
   "source": [
    "for i in range(1, 9):\n",
    "    for j, letter in enumerate(['a', 'b', 'c', 'd', 'e', 'f', 'g', 'h']):\n",
    "        square_name = letter + str(i)\n",
    "        if i % 2 == 0:\n",
    "            if (j+1) % 2 == 0:\n",
    "                colour = 'black'\n",
    "            else:\n",
    "                colour = 'white'\n",
    "        else:\n",
    "            if (j+1) % 2 == 0:\n",
    "                colour = 'white'\n",
    "            else:\n",
    "                colour = 'black'\n",
    "        \n",
    "        if colour == 'white':\n",
    "            base = white_base\n",
    "            check_highlight = white_check_highlight\n",
    "            legal_highlight = white_legal_highlight\n",
    "            misc_highlight = white_misc_highlight\n",
    "        else:\n",
    "            base = black_base\n",
    "            check_highlight = black_check_highlight\n",
    "            legal_highlight = black_legal_highlight\n",
    "            misc_highlight = black_misc_highlight\n",
    "\n",
    "        cv2.imwrite(f'{save_path}base_squares/{square_name}.png', base)\n",
    "        cv2.imwrite(f'{save_path}check_highlight_squares/{square_name}.png', check_highlight)\n",
    "        cv2.imwrite(f'{save_path}legal_move_highlight_squares/{square_name}.png', legal_highlight)\n",
    "        cv2.imwrite(f'{save_path}misc_highlight_squares/{square_name}.png', misc_highlight)"
   ]
  },
  {
   "cell_type": "code",
   "execution_count": null,
   "metadata": {},
   "outputs": [],
   "source": []
  },
  {
   "cell_type": "code",
   "execution_count": null,
   "metadata": {},
   "outputs": [],
   "source": []
  },
  {
   "cell_type": "code",
   "execution_count": null,
   "metadata": {},
   "outputs": [],
   "source": []
  },
  {
   "cell_type": "code",
   "execution_count": null,
   "metadata": {},
   "outputs": [],
   "source": []
  }
 ],
 "metadata": {
  "kernelspec": {
   "display_name": "base",
   "language": "python",
   "name": "python3"
  },
  "language_info": {
   "codemirror_mode": {
    "name": "ipython",
    "version": 3
   },
   "file_extension": ".py",
   "mimetype": "text/x-python",
   "name": "python",
   "nbconvert_exporter": "python",
   "pygments_lexer": "ipython3",
   "version": "3.8.5"
  }
 },
 "nbformat": 4,
 "nbformat_minor": 2
}
